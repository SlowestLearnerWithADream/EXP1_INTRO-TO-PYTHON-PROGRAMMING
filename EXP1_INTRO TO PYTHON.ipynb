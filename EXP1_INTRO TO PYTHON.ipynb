{
 "cells": [
  {
   "cell_type": "markdown",
   "id": "d94275e4-f8c3-4603-a001-b86100f315db",
   "metadata": {},
   "source": [
    "# EXP 1 : PROBLEM 1 \n",
    "-Alphabetize\n",
    "\n"
   ]
  },
  {
   "cell_type": "code",
   "execution_count": 11,
   "id": "e1e44282-2060-4095-9130-2aa5437e28ed",
   "metadata": {},
   "outputs": [
    {
     "name": "stdin",
     "output_type": "stream",
     "text": [
      "Alphabetize a word:  slowestlearnerwithadream\n"
     ]
    }
   ],
   "source": [
    "#user input\n",
    "word = input ( \"Alphabetize a word: \" )"
   ]
  },
  {
   "cell_type": "code",
   "execution_count": 13,
   "id": "67f5136f-3af4-4497-ba1f-1386b24c1197",
   "metadata": {},
   "outputs": [
    {
     "name": "stdout",
     "output_type": "stream",
     "text": [
      "aaadeeeehillmnorrrssttww"
     ]
    }
   ],
   "source": [
    "#function\n",
    "def alphabet_soup ( arrange ):\n",
    "    \n",
    "    #convert string -> list\n",
    "    listed = list( arrange )\n",
    "\n",
    "    #sort list\n",
    "    listed.sort()\n",
    "\n",
    "    #extract the strings and print on the same line leaving no space in between\n",
    "    for i in listed:\n",
    "        print ( i , end = \"\" )\n",
    "        \n",
    "#function call\n",
    "alphabet_soup( word )\n",
    "    "
   ]
  },
  {
   "cell_type": "code",
   "execution_count": null,
   "id": "4a72d038-04f0-47c2-b623-1a2f5dad04d3",
   "metadata": {},
   "outputs": [],
   "source": []
  },
  {
   "cell_type": "markdown",
   "id": "a59676f6-40b0-44ce-8e1b-8af57fa08f33",
   "metadata": {},
   "source": [
    "# EXP 1 : PROBLEM 2\n",
    "-Emotify"
   ]
  },
  {
   "cell_type": "code",
   "execution_count": 34,
   "id": "f2686f4e-7ca9-4dd5-adba-b7f8ae6d506a",
   "metadata": {},
   "outputs": [
    {
     "name": "stdin",
     "output_type": "stream",
     "text": [
      "What do you feel right now?  I smile and grin at the same time but i'm mad and sad at the same time\n"
     ]
    }
   ],
   "source": [
    "#user input\n",
    "statement = input( \"What do you feel right now? \" )"
   ]
  },
  {
   "cell_type": "code",
   "execution_count": 40,
   "id": "96b6761e-fe5c-4c7d-af71-f9f48028dbd4",
   "metadata": {},
   "outputs": [
    {
     "name": "stdout",
     "output_type": "stream",
     "text": [
      "I :) and :D at the same time but i'm >:( and :(( at the same time\n"
     ]
    }
   ],
   "source": [
    "#function\n",
    "def emoji (emotion):\n",
    "    \n",
    "    #convert the word \"smile\" with uppper or lowercase to emoji by replacing the original statement\n",
    "    sm = emotion.replace( \"Smile\" , \":)\" ) .replace( \"smile\", \":)\" )\n",
    "    \n",
    "    #convert the word \"grin\" with uppper or lowercase to emoji by replacing the previous converted statement\n",
    "    gn = sm.replace( \"Grin\", \":D\" ) .replace( \"grin\", \":D\" )\n",
    "    \n",
    "    #convert the word \"sad\" with uppper or lowercase to emoji by replacing the previous converted statement\n",
    "    sd = gn.replace( \"Sad\" , \":((\" ) .replace( \"sad\" , \":((\" )\n",
    "    \n",
    "    #convert the word \"mad\" with uppper or lowercase to emoji by replacing the previous converted statement\n",
    "    md = sd.replace( \"Mad\", \">:(\" ).replace( \"mad\", \">:(\" )\n",
    "\n",
    "    #prnt the converted string\n",
    "    print( md )\n",
    "\n",
    "#function call\n",
    "emoji( statement )\n",
    "\n",
    "\n",
    "    \n"
   ]
  },
  {
   "cell_type": "markdown",
   "id": "b8f8b754-d26f-43be-be2e-714661c60129",
   "metadata": {},
   "source": [
    "# EXP 1 : PROBLEM 3\n",
    "-Extraction"
   ]
  },
  {
   "cell_type": "code",
   "execution_count": 23,
   "id": "a1bff6ba-57a3-40c6-9ba4-956de09b5087",
   "metadata": {},
   "outputs": [
    {
     "name": "stdin",
     "output_type": "stream",
     "text": [
      "Write a word or number you wish to separate:  SlowestLearnerWithADream15\n"
     ]
    }
   ],
   "source": [
    "#string input\n",
    "unpack = input( \"Write a word or number you wish to separate: \" )"
   ]
  },
  {
   "cell_type": "code",
   "execution_count": 25,
   "id": "2390f935-9744-480c-857e-1986cd9f1686",
   "metadata": {},
   "outputs": [
    {
     "name": "stdout",
     "output_type": "stream",
     "text": [
      "First: S  Middle: [l, o, w, e, s, t, L, e, a, r, n, e, r, W, i, t, h, A, D, r, e, a, m, 1]  Last:  5\n"
     ]
    }
   ],
   "source": [
    "#function\n",
    "def extract(series):\n",
    "    \n",
    "    #converts string -> list\n",
    "    listed = list(series)\n",
    "\n",
    "    #counts the size of the list\n",
    "    L = len(listed)\n",
    "    \n",
    "    #sets the first and last element through their index\n",
    "    first = listed[0]\n",
    "    last = listed[L-1]\n",
    "\n",
    "    #prints the first element in the same line\n",
    "    print( \"First:\", first, end = \"  \")\n",
    "\n",
    "    #prints the middle elements in the same line through for loop\n",
    "    print( \"Middle: [\", end = \"\" )\n",
    "\n",
    "    #use for loop to access the index of the sandwiched elements\n",
    "    #the iterating variable, i, takes place the string elements in the list that starts from index [1](starter) to index [L-1](stopper)\n",
    "    for i in range( 1, L-1 ):\n",
    "\n",
    "        #if it encounters the last string in the middle during iteration, it prints the element and encloses with a bracket\n",
    "        if i == L-2:\n",
    "            print( listed[i], end = \"]  \" )\n",
    "            \n",
    "            \n",
    "        #otherwise, it prints the output that's distinct from the first and last element\n",
    "        else:\n",
    "            print( listed[i], end = \", \" )\n",
    "\n",
    "    #prints the last element\n",
    "    print( \"Last: \", last )\n",
    "\n",
    "#function call\n",
    "extract(unpack)\n",
    "    "
   ]
  },
  {
   "cell_type": "code",
   "execution_count": null,
   "id": "8b15b857-d217-4881-ae29-8b5054868c11",
   "metadata": {},
   "outputs": [],
   "source": []
  }
 ],
 "metadata": {
  "kernelspec": {
   "display_name": "Python 3 (ipykernel)",
   "language": "python",
   "name": "python3"
  },
  "language_info": {
   "codemirror_mode": {
    "name": "ipython",
    "version": 3
   },
   "file_extension": ".py",
   "mimetype": "text/x-python",
   "name": "python",
   "nbconvert_exporter": "python",
   "pygments_lexer": "ipython3",
   "version": "3.12.4"
  }
 },
 "nbformat": 4,
 "nbformat_minor": 5
}
