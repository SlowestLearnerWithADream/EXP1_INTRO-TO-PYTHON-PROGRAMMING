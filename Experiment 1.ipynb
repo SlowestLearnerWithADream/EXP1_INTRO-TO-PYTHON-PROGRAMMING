{
 "cells": [
  {
   "cell_type": "markdown",
   "id": "d94275e4-f8c3-4603-a001-b86100f315db",
   "metadata": {},
   "source": [
    "# EXP 1 : PROBLEM 1 \n"
   ]
  },
  {
   "cell_type": "code",
   "execution_count": 28,
   "id": "e1e44282-2060-4095-9130-2aa5437e28ed",
   "metadata": {},
   "outputs": [
    {
     "name": "stdin",
     "output_type": "stream",
     "text": [
      "Alphabetize a word:  mahal\n"
     ]
    }
   ],
   "source": [
    "word = input ( \"Alphabetize a word: \" )"
   ]
  },
  {
   "cell_type": "markdown",
   "id": "ddc07fc5-2c31-41de-bfbe-91e7b16b3a92",
   "metadata": {},
   "source": [
    "def alphabet_soup (arrange):\n",
    "    listed = list(arrange)\n",
    "    listed.sort()\n",
    "    for i in listed:\n",
    "        print ( i, end = \"\" )\n",
    "\n",
    "alphabet_soup(word)\n",
    "    "
   ]
  },
  {
   "cell_type": "code",
   "execution_count": null,
   "id": "4a72d038-04f0-47c2-b623-1a2f5dad04d3",
   "metadata": {},
   "outputs": [],
   "source": []
  },
  {
   "cell_type": "markdown",
   "id": "a59676f6-40b0-44ce-8e1b-8af57fa08f33",
   "metadata": {},
   "source": [
    "# EXP 1 : PROBLEM 2"
   ]
  },
  {
   "cell_type": "code",
   "execution_count": 88,
   "id": "f2686f4e-7ca9-4dd5-adba-b7f8ae6d506a",
   "metadata": {},
   "outputs": [
    {
     "name": "stdin",
     "output_type": "stream",
     "text": [
      "What do you feel right now?  i smile because you're mad\n"
     ]
    }
   ],
   "source": [
    "statement = input( \"What do you feel right now? \" )"
   ]
  },
  {
   "cell_type": "code",
   "execution_count": 90,
   "id": "96b6761e-fe5c-4c7d-af71-f9f48028dbd4",
   "metadata": {},
   "outputs": [
    {
     "name": "stdout",
     "output_type": "stream",
     "text": [
      "i :) because you're >:(\n"
     ]
    }
   ],
   "source": [
    "def emoji (emotion):\n",
    "    sm = emotion.replace(\"Smile\", \":)\" ) .replace(\"smile\", \":)\" )\n",
    "    gn = sm.replace( \"Grin\", \":D\") .replace( \"grin\", \":D\" )\n",
    "    sd = gn.replace( \"Sad\" , \":((\" ) .replace( \"sad\" , \":((\" )\n",
    "    md = sd.replace( \"Mad\", \">:(\" ).replace( \"mad\", \">:(\" )\n",
    "    print(md)\n",
    "\n",
    "emoji(statement)\n",
    "\n",
    "\n",
    "    \n"
   ]
  },
  {
   "cell_type": "markdown",
   "id": "b8f8b754-d26f-43be-be2e-714661c60129",
   "metadata": {},
   "source": [
    "# EXP 1 : PROBLEM 3"
   ]
  },
  {
   "cell_type": "code",
   "execution_count": 195,
   "id": "a1bff6ba-57a3-40c6-9ba4-956de09b5087",
   "metadata": {},
   "outputs": [
    {
     "name": "stdin",
     "output_type": "stream",
     "text": [
      "Write a word or number you wish to separate:  123456789\n"
     ]
    }
   ],
   "source": [
    "unpack = input(\"Write a word or number you wish to separate: \")"
   ]
  },
  {
   "cell_type": "code",
   "execution_count": 197,
   "id": "2390f935-9744-480c-857e-1986cd9f1686",
   "metadata": {},
   "outputs": [
    {
     "name": "stdout",
     "output_type": "stream",
     "text": [
      "first:  1  Middle: 2 3 4 5 6 7 8   Last:  9\n"
     ]
    }
   ],
   "source": [
    "def extract(series):\n",
    "    #string --> list\n",
    "    listed = list(series)\n",
    "\n",
    "    #element count\n",
    "    L =len(listed)\n",
    "    \n",
    "    first = listed[L-L]\n",
    "    last = listed[L-1]\n",
    "            \n",
    "    print( \"first: \", first, end = \"  \")\n",
    "    print( \"Middle: \", end = \"\" )\n",
    "    for i in listed:\n",
    "        if i == first or i == last:\n",
    "            continue\n",
    "        else:\n",
    "            print(i, end = \" \")\n",
    "        \n",
    "    print( \"  Last: \", last)\n",
    "\n",
    "extract(unpack)\n",
    "    "
   ]
  },
  {
   "cell_type": "code",
   "execution_count": 253,
   "id": "e9fe49fb-5f2d-46c8-af01-b1cfc10ca330",
   "metadata": {},
   "outputs": [
    {
     "name": "stdin",
     "output_type": "stream",
     "text": [
      "Enter a anything you want to separate:  Lleyton Bayodoc\n"
     ]
    }
   ],
   "source": [
    "himay = input ( \"Enter a anything you want to separate: \" )"
   ]
  },
  {
   "cell_type": "code",
   "execution_count": 257,
   "id": "10c1f45e-e068-4953-bbf8-1f0a1e266eaa",
   "metadata": {},
   "outputs": [
    {
     "name": "stdout",
     "output_type": "stream",
     "text": [
      "first: L Middle: leyton Bayodo Last:  c\n"
     ]
    }
   ],
   "source": [
    "def extract (word):\n",
    "    listed = list(word)\n",
    "    L = len(listed)\n",
    "    first = listed[0]\n",
    "    last = listed[L-1]\n",
    "    middle = \"\"\n",
    "    for i in listed:\n",
    "        if i == first or i == last:\n",
    "            continue\n",
    "        else:s\n",
    "            middle = middle + i\n",
    "    print(\"first:\", first, \"Middle:\", middle, \"Last: \", last)\n",
    "\n",
    "extract(himay)"
   ]
  },
  {
   "cell_type": "code",
   "execution_count": null,
   "id": "11056d17-7e7a-48c7-930b-2bcd59da25c4",
   "metadata": {},
   "outputs": [],
   "source": []
  }
 ],
 "metadata": {
  "kernelspec": {
   "display_name": "Python 3 (ipykernel)",
   "language": "python",
   "name": "python3"
  },
  "language_info": {
   "codemirror_mode": {
    "name": "ipython",
    "version": 3
   },
   "file_extension": ".py",
   "mimetype": "text/x-python",
   "name": "python",
   "nbconvert_exporter": "python",
   "pygments_lexer": "ipython3",
   "version": "3.12.4"
  }
 },
 "nbformat": 4,
 "nbformat_minor": 5
}
